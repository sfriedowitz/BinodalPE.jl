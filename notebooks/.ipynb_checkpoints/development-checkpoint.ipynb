{
 "cells": [
  {
   "cell_type": "markdown",
   "metadata": {},
   "source": [
    "# Imports"
   ]
  },
  {
   "cell_type": "code",
   "execution_count": 6,
   "metadata": {},
   "outputs": [
    {
     "name": "stderr",
     "output_type": "stream",
     "text": [
      "\u001b[32m\u001b[1m Activating\u001b[22m\u001b[39m environment at `/mnt/c/Users/sfrie/Documents/Code/julia/BinodalPE.jl/Project.toml`\n",
      "┌ Info: Precompiling BinodalPE [ac713d32-4396-11ea-0bd9-739efed412b3]\n",
      "└ @ Base loading.jl:1278\n"
     ]
    }
   ],
   "source": [
    "using Pkg\n",
    "Pkg.activate(\"../\")\n",
    "\n",
    "using BinodalPE"
   ]
  },
  {
   "cell_type": "code",
   "execution_count": 7,
   "metadata": {},
   "outputs": [
    {
     "name": "stderr",
     "output_type": "stream",
     "text": [
      "┌ Info: Precompiling Plots [91a5bcdd-55d7-5caf-9e0b-520d859cae80]\n",
      "└ @ Base loading.jl:1278\n"
     ]
    }
   ],
   "source": [
    "using BenchmarkTools\n",
    "using LinearAlgebra\n",
    "\n",
    "using Plots"
   ]
  },
  {
   "cell_type": "markdown",
   "metadata": {},
   "source": [
    "# Testing"
   ]
  },
  {
   "cell_type": "code",
   "execution_count": 9,
   "metadata": {},
   "outputs": [],
   "source": [
    "using Optim"
   ]
  },
  {
   "cell_type": "code",
   "execution_count": 166,
   "metadata": {},
   "outputs": [
    {
     "data": {
      "text/plain": [
       "AsymmetricCoacervate{GaussianCoil}(bulk = [0.0, 0.0, 0.0, 0.0])"
      ]
     },
     "execution_count": 166,
     "metadata": {},
     "output_type": "execute_result"
    }
   ],
   "source": [
    "model = AsymmetricCoacervate(structure = GaussianCoil, sig = [0.5, 0.5])"
   ]
  },
  {
   "cell_type": "code",
   "execution_count": 167,
   "metadata": {},
   "outputs": [
    {
     "data": {
      "text/plain": [
       "BinodalState:\n",
       "  Bulk  = [0.0, 0.0, 0.0, 0.0]\n",
       "  Sup   = [-0.004210526315789474, -0.004210526315789474, -0.000526315789473708, -0.000526315789473708]\n",
       "  Dense = [0.08, 0.08, 0.010000000000000064, 0.01000000000000012]\n",
       "  ν = 0.05"
      ]
     },
     "execution_count": 167,
     "metadata": {},
     "output_type": "execute_result"
    }
   ],
   "source": [
    "state = bndlstate(init, model)"
   ]
  },
  {
   "cell_type": "code",
   "execution_count": 168,
   "metadata": {},
   "outputs": [],
   "source": [
    "swap!(state)"
   ]
  },
  {
   "cell_type": "code",
   "execution_count": 169,
   "metadata": {},
   "outputs": [
    {
     "data": {
      "text/plain": [
       "BinodalState:\n",
       "  Bulk  = [0.0, 0.0, 0.0, 0.0]\n",
       "  Sup   = [0.08, 0.08, 0.010000000000000064, 0.01000000000000012]\n",
       "  Dense = [-0.004210526315789474, -0.004210526315789474, -0.000526315789473708, -0.000526315789473708]\n",
       "  ν = 0.95"
      ]
     },
     "execution_count": 169,
     "metadata": {},
     "output_type": "execute_result"
    }
   ],
   "source": [
    "state"
   ]
  },
  {
   "cell_type": "code",
   "execution_count": null,
   "metadata": {},
   "outputs": [],
   "source": []
  },
  {
   "cell_type": "code",
   "execution_count": 175,
   "metadata": {},
   "outputs": [
    {
     "name": "stdout",
     "output_type": "stream",
     "text": [
      "Starting minimization -- f(x) = 0.012008\n",
      "Minimization cycle (1)  -- f(x) = -0.00080722\n",
      "Minimization cycle (2)  -- f(x) = -0.00080722\n",
      "Minimization cycle (3)  -- f(x) = -0.00080912\n",
      "Minimization cycle (4)  -- f(x) = -0.00080912\n",
      "Minimization cycle (5)  -- f(x) = -0.00080912\n",
      "Minimization cycle (6)  -- f(x) = -0.00080913\n",
      "Minimization cycle (7)  -- f(x) = -0.00080913\n",
      "Minimization cycle (8)  -- f(x) = -0.00080913\n",
      "Minimization cycle (9)  -- f(x) = -0.00080913\n",
      "Minimization cycle (10)  -- f(x) = -0.00080913\n"
     ]
    },
    {
     "data": {
      "text/plain": [
       "BinodalState:\n",
       "  Bulk  = [0.005, 0.005, 0.1, 0.1]\n",
       "  Sup   = [2.124915837124364e-6, 1.7664235602040355e-6, 0.10048542196346226, 0.10048524271732384]\n",
       "  Dense = [0.05253174751800282, 0.05253515691981994, 0.0953834472013722, 0.09538515190228081]\n",
       "  ν = 0.0951439366319914"
      ]
     },
     "execution_count": 175,
     "metadata": {},
     "output_type": "execute_result"
    }
   ],
   "source": [
    "set_bulk!(model, [0.005, 0.005, 0.1, 0.1])\n",
    "\n",
    "init = [0.08, 0.08, 0.82, 0.05]\n",
    "res = bndlminimize(init, model, show_trace = true, cycles = 10, delta = 1e-2)\n",
    "\n",
    "res.state"
   ]
  },
  {
   "cell_type": "code",
   "execution_count": 180,
   "metadata": {},
   "outputs": [
    {
     "name": "stdout",
     "output_type": "stream",
     "text": [
      "Iter     f(x) inf-norm    Step 2-norm \n",
      "------   --------------   --------------\n",
      "     0     5.666901e-03              NaN\n",
      "     1     3.745555e-06     4.901068e-01\n",
      "     2     2.803662e-08     4.847522e-03\n",
      "     3     2.729053e-10     4.843719e-05\n",
      "     4     2.721832e-12     4.843351e-07\n"
     ]
    },
    {
     "data": {
      "text/plain": [
       "BinodalResults:\n",
       "  x = [1.1916054264360658e-6, 1.1916054260663836e-6, 0.1004842936768062, 0.10048429367686058, 0.052422801391396774, 0.05242280139036246, 0.09540559248596857, 0.0954055924854656, 0.0953577811738637, -2.9059157650085223e-12]\n",
       "  steps = 4\n",
       "  objective = 2.7218e-12\n",
       "  converged = true\n"
      ]
     },
     "execution_count": 180,
     "metadata": {},
     "output_type": "execute_result"
    }
   ],
   "source": [
    "#init = [5.054879661550276e-35, 5.05487966143017e-35, 0.010979986999472563, 0.010979986999472563, 0.25149692539352647, 0.25149692539352647, 0.016013195162538466, 0.016013195162538466, 0.0039761917503971025, 1.2665261858992273e-12]\n",
    "\n",
    "res = bndlsolve(init, model; scale = true, rlxn = 0.9, iterations = 50, show_trace = true)"
   ]
  },
  {
   "cell_type": "code",
   "execution_count": null,
   "metadata": {},
   "outputs": [],
   "source": []
  }
 ],
 "metadata": {
  "kernelspec": {
   "display_name": "Julia 1.5.2",
   "language": "julia",
   "name": "julia-1.5"
  },
  "language_info": {
   "file_extension": ".jl",
   "mimetype": "application/julia",
   "name": "julia",
   "version": "1.5.2"
  },
  "toc": {
   "base_numbering": 1,
   "nav_menu": {},
   "number_sections": true,
   "sideBar": true,
   "skip_h1_title": false,
   "title_cell": "Table of Contents",
   "title_sidebar": "Contents",
   "toc_cell": false,
   "toc_position": {},
   "toc_section_display": true,
   "toc_window_display": false
  }
 },
 "nbformat": 4,
 "nbformat_minor": 2
}
