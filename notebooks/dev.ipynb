{
 "cells": [
  {
   "cell_type": "markdown",
   "metadata": {},
   "source": [
    "# Imports"
   ]
  },
  {
   "cell_type": "code",
   "execution_count": 1,
   "metadata": {},
   "outputs": [
    {
     "name": "stderr",
     "output_type": "stream",
     "text": [
      "\u001b[32m\u001b[1m Activating\u001b[22m\u001b[39m environment at `/mnt/c/Users/sfrie/Documents/Code/julia/BinodalPE.jl/Project.toml`\n",
      "┌ Info: Precompiling BinodalPE [ac713d32-4396-11ea-0bd9-739efed412b3]\n",
      "└ @ Base loading.jl:1278\n"
     ]
    }
   ],
   "source": [
    "using Pkg\n",
    "Pkg.activate(\"../\")\n",
    "\n",
    "using BinodalPE"
   ]
  },
  {
   "cell_type": "code",
   "execution_count": 2,
   "metadata": {},
   "outputs": [],
   "source": [
    "using BenchmarkTools\n",
    "using LinearAlgebra\n",
    "using Test\n",
    "\n",
    "using Plots"
   ]
  },
  {
   "cell_type": "markdown",
   "metadata": {
    "heading_collapsed": true
   },
   "source": [
    "# Tests"
   ]
  },
  {
   "cell_type": "code",
   "execution_count": 39,
   "metadata": {
    "hidden": true
   },
   "outputs": [
    {
     "data": {
      "text/plain": [
       "4-element Array{Array{Float64,1},1}:\n",
       " [0.01, 0.01, 0.01]\n",
       " [0.01, 0.005]\n",
       " [0.01, 0.01, 0.005, 0.005]\n",
       " [0.01, 0.01, 0.005, 0.005]"
      ]
     },
     "execution_count": 39,
     "metadata": {},
     "output_type": "execute_result"
    }
   ],
   "source": [
    "models = [\n",
    "    SinglePolyion(structure = GaussianCoil, dg = -5),\n",
    "    SymmetricCoacervate(structure = RodLike, omega = [5, 1]),\n",
    "    AsymmetricCoacervate(structure = WormLike, omega = [5, 5, 1, 1]),\n",
    "    AssociationCoacervate(structure = SphericalGlobule, omega = [5, 5, 1, 1], dg = [-5, -5, -5])\n",
    "]\n",
    "\n",
    "phis = [\n",
    "    [0.01, 0.01, 0.01],\n",
    "    [0.01, 0.005],\n",
    "    [0.01, 0.01, 0.005, 0.005],\n",
    "    [0.01, 0.01, 0.005, 0.005]\n",
    "]"
   ]
  },
  {
   "cell_type": "code",
   "execution_count": 142,
   "metadata": {
    "hidden": true
   },
   "outputs": [
    {
     "data": {
      "text/plain": [
       "\u001b[32m\u001b[1mTest Passed\u001b[22m\u001b[39m"
      ]
     },
     "execution_count": 142,
     "metadata": {},
     "output_type": "execute_result"
    }
   ],
   "source": [
    "model = AssociationCoacervate(structure = GaussianCoil, dg = [-5, -5, -5], omega = [5, 5, 1, 1])\n",
    "set_bulk!(model, [0.005, 0.005, 0.0025, 0.0025])\n",
    "x0 = [1e-8, 1e-8, 0.0025, 0.0025, 0.05, 0.05, 0.0025, 0.0025, 0.2, 0.0]\n",
    "\n",
    "result = bndlsolve(x0, model, scale = true)\n",
    "@test result.x[end-1] ≈ 0.1267333610664382 atol = 1e-6"
   ]
  },
  {
   "cell_type": "code",
   "execution_count": 141,
   "metadata": {
    "hidden": true
   },
   "outputs": [
    {
     "data": {
      "text/plain": [
       "\u001b[32m\u001b[1mTest Passed\u001b[22m\u001b[39m"
      ]
     },
     "execution_count": 141,
     "metadata": {},
     "output_type": "execute_result"
    }
   ],
   "source": [
    "result = bndlsolve(x0, model, scale = true)\n",
    "@test result.x[end-1] ≈ 0.1267333610664382 atol = 1e-6"
   ]
  },
  {
   "cell_type": "code",
   "execution_count": 162,
   "metadata": {
    "hidden": true
   },
   "outputs": [
    {
     "data": {
      "text/plain": [
       "\u001b[32m\u001b[1mTest Passed\u001b[22m\u001b[39m"
      ]
     },
     "execution_count": 162,
     "metadata": {},
     "output_type": "execute_result"
    }
   ],
   "source": [
    "state = BinodalState([0.01, 0.005])\n",
    "state.nu = 0.1\n",
    "\n",
    "new = copy(state)\n",
    "@test new.nu == state.nu\n",
    "\n",
    "cstate = toconc(state, [1, 1])\n",
    "@test cstate.bulk ≈ [0.5555555555555556, 0.2777777777777778]\n",
    "pstate = tophi(cstate, [1, 1])\n",
    "@test pstate.bulk ≈ [0.01, 0.005]"
   ]
  },
  {
   "cell_type": "markdown",
   "metadata": {},
   "source": [
    "# Dev"
   ]
  },
  {
   "cell_type": "code",
   "execution_count": 3,
   "metadata": {},
   "outputs": [
    {
     "data": {
      "text/plain": [
       "AsymmetricCoacervate{AdaptiveChain}(bulk = [0.0, 0.0, 0.0, 0.0])"
      ]
     },
     "execution_count": 3,
     "metadata": {},
     "output_type": "execute_result"
    }
   ],
   "source": [
    "model = AsymmetricCoacervate(structure = AdaptiveChain)"
   ]
  },
  {
   "cell_type": "code",
   "execution_count": 11,
   "metadata": {},
   "outputs": [
    {
     "data": {
      "text/plain": [
       "-0.001751383156025011"
      ]
     },
     "execution_count": 11,
     "metadata": {},
     "output_type": "execute_result"
    }
   ],
   "source": [
    "phi = [1e-6, 1e-6, 1e-4, 1e-4]\n",
    "\n",
    "ftotal(phi, model)"
   ]
  },
  {
   "cell_type": "code",
   "execution_count": 12,
   "metadata": {},
   "outputs": [
    {
     "data": {
      "text/plain": [
       "2-element Array{Float64,1}:\n",
       " 0.49681503696249707\n",
       " 0.49681503696249707"
      ]
     },
     "execution_count": 12,
     "metadata": {},
     "output_type": "execute_result"
    }
   ],
   "source": [
    "varsolve(phi, model)"
   ]
  },
  {
   "cell_type": "code",
   "execution_count": null,
   "metadata": {},
   "outputs": [],
   "source": []
  }
 ],
 "metadata": {
  "kernelspec": {
   "display_name": "Julia 1.5.2",
   "language": "julia",
   "name": "julia-1.5"
  },
  "language_info": {
   "file_extension": ".jl",
   "mimetype": "application/julia",
   "name": "julia",
   "version": "1.5.2"
  },
  "toc": {
   "base_numbering": 1,
   "nav_menu": {},
   "number_sections": true,
   "sideBar": true,
   "skip_h1_title": false,
   "title_cell": "Table of Contents",
   "title_sidebar": "Contents",
   "toc_cell": false,
   "toc_position": {},
   "toc_section_display": true,
   "toc_window_display": false
  }
 },
 "nbformat": 4,
 "nbformat_minor": 2
}
